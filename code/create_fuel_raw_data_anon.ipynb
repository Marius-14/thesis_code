{
 "cells": [
  {
   "cell_type": "code",
   "execution_count": 1,
   "id": "afed4536",
   "metadata": {},
   "outputs": [],
   "source": [
    "# Import libraries/packages\n",
    "import pandas as pd\n",
    "import googlemaps"
   ]
  },
  {
   "cell_type": "code",
   "execution_count": null,
   "id": "e32ac1ac",
   "metadata": {},
   "outputs": [],
   "source": [
    "# Load original dataset\n",
    "df = pd.read_csv(r'C:\\Users\\marius\\OneDrive\\UWI - Postgraduate - Data Science\\Thesis\\thesis_code\\data\\raw\\fuel_data_raw.csv')"
   ]
  },
  {
   "cell_type": "code",
   "execution_count": null,
   "id": "1c5d1540",
   "metadata": {},
   "outputs": [],
   "source": [
    "# Drop 'Origin' and 'Destination' titled columns (excluding ID/Lat/Lon)\n",
    "df.drop(columns=[col for col in df.columns if 'Origin' in col and col not in ['Origin_ID', 'Origin_Latitude', 'Origin_Longitude']\n",
    "                or 'Destination' in col and col not in ['Destination_ID', 'Destination_Latitude', 'Destination_Longitude']], inplace=True)\n",
    "\n",
    "# Anonymize origin names uniquely\n",
    "if 'Origin_ID' in df.columns:\n",
    "    origin_mapping = {old: f\"Source_{i+1}\" for i, old in enumerate(df['Origin_ID'].dropna().unique())}\n",
    "    df['Origin_ID'] = df['Origin_ID'].map(origin_mapping)\n",
    "\n",
    "# Rename Destination_IDs consistently\n",
    "destination_mapping = {old: f\"Station_{i+1}\" for i, old in enumerate(df['Destination_ID'].unique())}\n",
    "df['Destination_ID'] = df['Destination_ID'].map(destination_mapping)\n",
    "\n",
    "# Remove 'Truck' column\n",
    "if 'Truck' in df.columns:\n",
    "    df.drop(columns='Truck', inplace=True)\n",
    "\n",
    "# Anonymize product names uniquely\n",
    "product_mapping = {old: f\"Product_{i+1}\" for i, old in enumerate(df['Product'].unique())}\n",
    "df['Product'] = df['Product'].map(product_mapping)\n",
    "\n",
    "# Anonymize Tractor and Trailer IDs\n",
    "if 'Tractor' in df.columns:\n",
    "    tractor_mapping = {old: f\"Tractor_{i+1}\" for i, old in enumerate(df['Tractor'].dropna().unique())}\n",
    "    df['Tractor'] = df['Tractor'].map(tractor_mapping)\n",
    "\n",
    "if 'Trailer' in df.columns:\n",
    "    trailer_mapping = {old: f\"Trailer_{i+1}\" for i, old in enumerate(df['Trailer'].dropna().unique())}\n",
    "    df['Trailer'] = df['Trailer'].map(trailer_mapping)\n",
    "\n",
    "# Filter out rows with null Product_Storage_Capacity_Liters\n",
    "df = df[df['Product_Storage_Capacity_Liters'].notnull()]\n",
    "\n",
    "# Calculate road distance using Google Maps, with caching to avoid duplicates\n",
    "gmaps = googlemaps.Client(key='')\n",
    "\n",
    "distance_cache = {}\n",
    "\n",
    "def get_road_distance(row):\n",
    "    origin = (row['Origin_Latitude'], row['Origin_Longitude'])\n",
    "    dest = (row['Destination_Latitude'], row['Destination_Longitude'])\n",
    "    key = (origin, dest)\n",
    "\n",
    "    if key not in distance_cache:\n",
    "        try:\n",
    "            result = gmaps.distance_matrix(origin, dest, mode='driving')\n",
    "            meters = result['rows'][0]['elements'][0]['distance']['value']\n",
    "            distance_km = meters / 1000\n",
    "            distance_cache[key] = distance_km\n",
    "        except Exception as e:\n",
    "            print(f\"Error retrieving distance for {key}: {e}\")\n",
    "            distance_cache[key] = None\n",
    "    return distance_cache[key]\n",
    "\n",
    "df['Distance_km'] = df.apply(get_road_distance, axis=1)\n",
    "\n",
    "df.drop(columns=[\n",
    "    'Origin_Latitude', 'Origin_Longitude',\n",
    "    'Destination_Latitude', 'Destination_Longitude'\n",
    "], inplace=True)"
   ]
  },
  {
   "cell_type": "code",
   "execution_count": null,
   "id": "44f2078b",
   "metadata": {},
   "outputs": [],
   "source": [
    "# Save the anonymized dataset\n",
    "anon_path = r'C:\\Users\\marius\\OneDrive\\UWI - Postgraduate - Data Science\\Thesis\\thesis_code\\data\\raw\\fuel_data_raw_anon.csv'\n",
    "df.to_csv(anon_path, index=False)"
   ]
  }
 ],
 "metadata": {
  "kernelspec": {
   "display_name": "Python 3",
   "language": "python",
   "name": "python3"
  },
  "language_info": {
   "codemirror_mode": {
    "name": "ipython",
    "version": 3
   },
   "file_extension": ".py",
   "mimetype": "text/x-python",
   "name": "python",
   "nbconvert_exporter": "python",
   "pygments_lexer": "ipython3",
   "version": "3.11.9"
  }
 },
 "nbformat": 4,
 "nbformat_minor": 5
}
