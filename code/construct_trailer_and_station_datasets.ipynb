{
 "cells": [
  {
   "cell_type": "code",
   "execution_count": null,
   "id": "7be14600",
   "metadata": {},
   "outputs": [],
   "source": [
    "# Import libraries/packages\n",
    "import pandas as pd\n",
    "from pathlib import Path\n",
    "import numpy as np"
   ]
  },
  {
   "cell_type": "code",
   "execution_count": null,
   "id": "b83fb8b7",
   "metadata": {},
   "outputs": [],
   "source": [
    "# Load cleaned and anonymized data\n",
    "ROOT = Path.cwd().parent\n",
    "fuel_data_raw = pd.read_csv(ROOT / 'data/raw/fuel_data_raw_anon.csv')"
   ]
  },
  {
   "cell_type": "markdown",
   "id": "f028c9c2",
   "metadata": {},
   "source": [
    "#### Trailer Configuration Dataset"
   ]
  },
  {
   "cell_type": "code",
   "execution_count": null,
   "id": "96eb812e",
   "metadata": {},
   "outputs": [],
   "source": [
    "# Parse delivery dates and create YearMonth column\n",
    "fuel_data_raw['Delivery_Date'] = pd.to_datetime(fuel_data_raw['Delivery_Date'])\n",
    "fuel_data_raw['YearMonth'] = fuel_data_raw['Delivery_Date'].dt.to_period('M')\n",
    "\n",
    "# Copy entire dataset for further filtering\n",
    "filtered_data = fuel_data_raw.copy()\n",
    "\n",
    "# Prepare truck configuration using Trailer and Tank Capacity\n",
    "truck_sample = filtered_data[['Trailer', 'Truck_Tank_Capacity_Liters']].drop_duplicates()\n",
    "\n",
    "def assign_type(cap):\n",
    "    if cap < 18000:\n",
    "        return 'Small'\n",
    "    elif cap < 30000:\n",
    "        return 'Medium'\n",
    "    else:\n",
    "        return 'Large'\n",
    "\n",
    "truck_sample['Truck_Type'] = truck_sample['Truck_Tank_Capacity_Liters'].apply(assign_type)\n",
    "\n",
    "# Assign max trips and distance limits per truck type\n",
    "truck_sample['Max_Trips_Per_Day'] = truck_sample['Truck_Type'].map({\n",
    "    'Small': 4,\n",
    "    'Medium': 5,\n",
    "    'Large': 6\n",
    "})\n",
    "\n",
    "truck_sample['Distance_Limit_Per_Day'] = truck_sample['Truck_Type'].map({\n",
    "    'Small': 200,\n",
    "    'Medium': 250,\n",
    "    'Large': 350\n",
    "})\n",
    "\n",
    "# Calculate trailer availability percent\n",
    "total_days = (filtered_data['Delivery_Date'].max() - filtered_data['Delivery_Date'].min()).days + 1\n",
    "trailer_day_counts = (\n",
    "    filtered_data\n",
    "    .groupby('Trailer')['Delivery_Date']\n",
    "    .nunique()\n",
    "    .reset_index(name='Active_Days')\n",
    ")\n",
    "trailer_day_counts['Availability_Percent'] = (trailer_day_counts['Active_Days'] / total_days) * 100\n",
    "\n",
    "truck_sample = pd.merge(truck_sample, trailer_day_counts, on='Trailer', how='left')\n",
    "truck_sample['Availability_Percent'] = truck_sample['Availability_Percent'].fillna(0).round(2)"
   ]
  },
  {
   "cell_type": "code",
   "execution_count": null,
   "id": "a2a1dfdc",
   "metadata": {},
   "outputs": [],
   "source": [
    "# Save truck configuration CSV\n",
    "truck_csv_path = ROOT / 'data/processed/truck_config_julia.csv'\n",
    "truck_sample.to_csv(truck_csv_path, index=False)"
   ]
  },
  {
   "cell_type": "markdown",
   "id": "41abe6dd",
   "metadata": {},
   "source": [
    "#### Station Demand Dataset"
   ]
  },
  {
   "cell_type": "code",
   "execution_count": null,
   "id": "17df9b13",
   "metadata": {},
   "outputs": [],
   "source": [
    "# Filter only by Origin_ID == 'Source_2' and rename to Source_Depot\n",
    "filtered_data = filtered_data[filtered_data['Origin_ID'] == 'Source_2'].copy()\n",
    "filtered_data['Origin_ID'] = 'Source_Depot'\n",
    "\n",
    "# Group by Destination, Product, and Month to get monthly demand\n",
    "monthly_demand = (\n",
    "    filtered_data\n",
    "    .groupby(['Destination_ID', 'Product', 'YearMonth'])['Delivered_Volume_Liters']\n",
    "    .sum()\n",
    "    .reset_index()\n",
    ")\n",
    "\n",
    "# Calculate average monthly demand per station and product\n",
    "avg_monthly_demand = (\n",
    "    monthly_demand\n",
    "    .groupby(['Destination_ID', 'Product'])['Delivered_Volume_Liters']\n",
    "    .mean()\n",
    "    .reset_index()\n",
    "    .rename(columns={'Delivered_Volume_Liters': 'Monthly_Demand_Liters'})\n",
    ")\n",
    "\n",
    "# Extract and apply 80% buffer to product storage capacity\n",
    "storage_capacity = (\n",
    "    filtered_data[['Destination_ID', 'Product', 'Product_Storage_Capacity_Liters']]\n",
    "    .drop_duplicates()\n",
    "    .copy()\n",
    ")\n",
    "storage_capacity['Product_Storage_Capacity_Liters'] *= 0.80\n",
    "\n",
    "# Merge demand and storage capacity\n",
    "station_demand = pd.merge(avg_monthly_demand, storage_capacity, on=['Destination_ID', 'Product'], how='left')\n",
    "\n",
    "# Add station distance\n",
    "station_distances = filtered_data[['Destination_ID', 'Distance_km']].drop_duplicates()\n",
    "station_demand = pd.merge(station_demand, station_distances, on='Destination_ID', how='left')\n",
    "\n",
    "# Compute estimated number of refills per month (ceiled)\n",
    "station_demand['Estimated_Refills'] = np.ceil(\n",
    "    station_demand['Monthly_Demand_Liters'] / station_demand['Product_Storage_Capacity_Liters']\n",
    ").astype(int)"
   ]
  },
  {
   "cell_type": "code",
   "execution_count": null,
   "id": "cc6ea81a",
   "metadata": {},
   "outputs": [],
   "source": [
    "# Save updated station demand CSV\n",
    "station_csv_path = ROOT / 'data/processed/station_demand_julia.csv'\n",
    "station_demand.to_csv(station_csv_path, index=False)"
   ]
  }
 ],
 "metadata": {
  "kernelspec": {
   "display_name": "Python 3",
   "language": "python",
   "name": "python3"
  },
  "language_info": {
   "codemirror_mode": {
    "name": "ipython",
    "version": 3
   },
   "file_extension": ".py",
   "mimetype": "text/x-python",
   "name": "python",
   "nbconvert_exporter": "python",
   "pygments_lexer": "ipython3",
   "version": "3.11.9"
  }
 },
 "nbformat": 4,
 "nbformat_minor": 5
}
